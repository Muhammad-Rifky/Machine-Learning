{
 "cells": [
  {
   "cell_type": "code",
   "execution_count": 6,
   "metadata": {},
   "outputs": [
    {
     "ename": "ValueError",
     "evalue": "cannot reshape array of size 2914 into shape (62,47,3)",
     "output_type": "error",
     "traceback": [
      "\u001b[1;31m---------------------------------------------------------------------------\u001b[0m",
      "\u001b[1;31mValueError\u001b[0m                                Traceback (most recent call last)",
      "Cell \u001b[1;32mIn[6], line 34\u001b[0m\n\u001b[0;32m     31\u001b[0m         histograms\u001b[38;5;241m.\u001b[39mappend(np\u001b[38;5;241m.\u001b[39mconcatenate((hist_r, hist_g, hist_b)))\n\u001b[0;32m     32\u001b[0m     \u001b[38;5;28;01mreturn\u001b[39;00m np\u001b[38;5;241m.\u001b[39marray(histograms)\n\u001b[1;32m---> 34\u001b[0m X_histograms \u001b[38;5;241m=\u001b[39m extract_histograms(X_scaled)\n\u001b[0;32m     36\u001b[0m \u001b[38;5;66;03m# Split the dataset\u001b[39;00m\n\u001b[0;32m     37\u001b[0m X_train, X_test, y_train, y_test \u001b[38;5;241m=\u001b[39m train_test_split(X_histograms, y, test_size\u001b[38;5;241m=\u001b[39m\u001b[38;5;241m0.2\u001b[39m, random_state\u001b[38;5;241m=\u001b[39m\u001b[38;5;241m42\u001b[39m)\n",
      "Cell \u001b[1;32mIn[6], line 27\u001b[0m, in \u001b[0;36mextract_histograms\u001b[1;34m(X)\u001b[0m\n\u001b[0;32m     25\u001b[0m histograms \u001b[38;5;241m=\u001b[39m []\n\u001b[0;32m     26\u001b[0m \u001b[38;5;28;01mfor\u001b[39;00m image \u001b[38;5;129;01min\u001b[39;00m X:\n\u001b[1;32m---> 27\u001b[0m     image_reshaped \u001b[38;5;241m=\u001b[39m image\u001b[38;5;241m.\u001b[39mreshape(h, w, \u001b[38;5;241m3\u001b[39m)  \u001b[38;5;66;03m# Use the correct shape\u001b[39;00m\n\u001b[0;32m     28\u001b[0m     hist_r, _ \u001b[38;5;241m=\u001b[39m np\u001b[38;5;241m.\u001b[39mhistogram(image_reshaped[:, :, \u001b[38;5;241m0\u001b[39m], bins\u001b[38;5;241m=\u001b[39m\u001b[38;5;241m256\u001b[39m, \u001b[38;5;28mrange\u001b[39m\u001b[38;5;241m=\u001b[39m(\u001b[38;5;241m0\u001b[39m, \u001b[38;5;241m255\u001b[39m))\n\u001b[0;32m     29\u001b[0m     hist_g, _ \u001b[38;5;241m=\u001b[39m np\u001b[38;5;241m.\u001b[39mhistogram(image_reshaped[:, :, \u001b[38;5;241m1\u001b[39m], bins\u001b[38;5;241m=\u001b[39m\u001b[38;5;241m256\u001b[39m, \u001b[38;5;28mrange\u001b[39m\u001b[38;5;241m=\u001b[39m(\u001b[38;5;241m0\u001b[39m, \u001b[38;5;241m255\u001b[39m))\n",
      "\u001b[1;31mValueError\u001b[0m: cannot reshape array of size 2914 into shape (62,47,3)"
     ]
    }
   ],
   "source": [
    "import numpy as np\n",
    "import matplotlib.pyplot as plt\n",
    "from sklearn.datasets import fetch_lfw_people\n",
    "from sklearn.preprocessing import StandardScaler\n",
    "from sklearn.model_selection import train_test_split\n",
    "from sklearn.svm import SVC\n",
    "from sklearn.metrics import accuracy_score, classification_report\n",
    "\n",
    "# Load the LFW dataset\n",
    "lfw_people = fetch_lfw_people(min_faces_per_person=10, resize=0.5)\n",
    "X = lfw_people.data\n",
    "y = lfw_people.target\n",
    "target_names = lfw_people.target_names\n",
    "\n",
    "# Check the original shape of images\n",
    "image_shape = lfw_people.images.shape[1:]\n",
    "h, w = image_shape  # Update the height and width based on the actual shape\n",
    "\n",
    "# Normalize the data\n",
    "scaler = StandardScaler()\n",
    "X_scaled = scaler.fit_transform(X)\n",
    "\n",
    "# Extract histograms\n",
    "def extract_histograms(X):\n",
    "    histograms = []\n",
    "    for image in X:\n",
    "        image_reshaped = image.reshape(62, 47, 3)  # Use the correct shape\n",
    "        hist_r, _ = np.histogram(image_reshaped[:, :, 0], bins=256, range=(0, 255))\n",
    "        hist_g, _ = np.histogram(image_reshaped[:, :, 1], bins=256, range=(0, 255))\n",
    "        hist_b, _ = np.histogram(image_reshaped[:, :, 2], bins=256, range=(0, 255))\n",
    "        histograms.append(np.concatenate((hist_r, hist_g, hist_b)))\n",
    "    return np.array(histograms)\n",
    "\n",
    "X_histograms = extract_histograms(X_scaled)\n",
    "\n",
    "# Split the dataset\n",
    "X_train, X_test, y_train, y_test = train_test_split(X_histograms, y, test_size=0.2, random_state=42)\n",
    "\n",
    "# Train the SVM classifier\n",
    "svm = SVC(kernel='linear')\n",
    "svm.fit(X_train, y_train)\n",
    "\n",
    "# Make predictions\n",
    "y_pred = svm.predict(X_test)\n",
    "\n",
    "# Calculate accuracy and classification report\n",
    "accuracy = accuracy_score(y_test, y_pred)\n",
    "print(f\"Accuracy: {accuracy:.2f}\")\n",
    "print(classification_report(y_test, y_pred, target_names=target_names))\n",
    "\n",
    "# Visualize images\n",
    "def plot_gallery(images, titles, h, w, n_row=3, n_col=4):\n",
    "    plt.figure(figsize=(1.8 * n_col, 2.4 * n_row))\n",
    "    plt.subplots_adjust(bottom=0, left=.01, right=.99, top=.90, hspace=.35)\n",
    "\n",
    "    for i in range(n_row * n_col):\n",
    "        plt.subplot(n_row, n_col, i + 1)\n",
    "        plt.imshow(images[i].reshape(h, w, 3), cmap=plt.cm.gray)\n",
    "        plt.title(titles[i], size=12)\n",
    "        plt.xticks(())\n",
    "        plt.yticks(())\n",
    "\n",
    "# Prepare titles for the predicted and true labels\n",
    "predicted_titles = [f'pred: {target_names[y_pred[i]]}\\ntrue: {target_names[y_test[i]]}' for i in range(y_test.shape[0])]\n",
    "\n",
    "# Plot the gallery of images\n",
    "plot_gallery(X_test, predicted_titles, h, w)\n",
    "plt.show()"
   ]
  }
 ],
 "metadata": {
  "kernelspec": {
   "display_name": "base",
   "language": "python",
   "name": "python3"
  },
  "language_info": {
   "codemirror_mode": {
    "name": "ipython",
    "version": 3
   },
   "file_extension": ".py",
   "mimetype": "text/x-python",
   "name": "python",
   "nbconvert_exporter": "python",
   "pygments_lexer": "ipython3",
   "version": "3.12.4"
  }
 },
 "nbformat": 4,
 "nbformat_minor": 2
}
