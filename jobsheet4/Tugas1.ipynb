{
 "cells": [
  {
   "cell_type": "code",
   "execution_count": 9,
   "metadata": {},
   "outputs": [],
   "source": [
    "import cv2\n",
    "import numpy as np\n",
    "from sklearn.metrics import accuracy_score\n",
    "import os"
   ]
  },
  {
   "cell_type": "code",
   "execution_count": 14,
   "metadata": {},
   "outputs": [],
   "source": [
    "train_dir = 'data/images/training/'\n",
    "test_dir = 'data/images/test/'"
   ]
  },
  {
   "cell_type": "code",
   "execution_count": 11,
   "metadata": {},
   "outputs": [],
   "source": [
    "def compute_histogram(image):\n",
    "    # Convert the image to HSV\n",
    "    hsv = cv2.cvtColor(image, cv2.COLOR_RGB2HSV)\n",
    "    \n",
    "    # Compute the histogram (16 bins for each channel)\n",
    "    hist = cv2.calcHist([hsv], [0, 1, 2], None, [16, 16, 16], [0, 180, 0, 256, 0, 256])\n",
    "    \n",
    "    # Normalize the histogram\n",
    "    cv2.normalize(hist, hist)\n",
    "    \n",
    "    # Flatten the histogram to create the feature vector\n",
    "    return hist.flatten()\n",
    "\n",
    "def standarized_input(image):\n",
    "    # resize to w: 1100, h:600\n",
    "    std_img = cv2.resize(image, (1100,600))\n",
    "\n",
    "    return std_img"
   ]
  },
  {
   "cell_type": "code",
   "execution_count": 12,
   "metadata": {},
   "outputs": [],
   "source": [
    "# Create function to load images and Labels\n",
    "def load_histogram_std_img(directory):\n",
    "    data = []\n",
    "    labels = []\n",
    "    \n",
    "    for label in ['day', 'night']:\n",
    "        path = os.path.join(directory, label)\n",
    "        for filename in os.listdir(path):\n",
    "            if filename.endswith('.jpg') or filename.endswith('.png'):\n",
    "                img_path = os.path.join(path, filename)\n",
    "                \n",
    "                # Read and resize the image\n",
    "                image = cv2.imread(img_path)\n",
    "                resized_image = standarized_input(image)\n",
    "                \n",
    "                # Compute histogram features\n",
    "                hist = compute_histogram(resized_image)\n",
    "                \n",
    "                # Append features and label\n",
    "                data.append(hist)\n",
    "                labels.append(0 if label == 'night' else 1)  # 0 for night, 1 for day\n",
    "                \n",
    "    return np.array(data), np.array(labels)"
   ]
  },
  {
   "cell_type": "code",
   "execution_count": 15,
   "metadata": {},
   "outputs": [
    {
     "name": "stdout",
     "output_type": "stream",
     "text": [
      "Training data shape: (240, 4096)\n",
      "Test data shape: (160, 4096)\n"
     ]
    }
   ],
   "source": [
    "# Load Train and test data\n",
    "X_train, y_train = load_histogram_std_img(train_dir)\n",
    "X_test, y_test = load_histogram_std_img(test_dir)\n",
    "\n",
    "# show the shape of the data\n",
    "print(f'Training data shape: {X_train.shape}')\n",
    "print(f'Test data shape: {X_test.shape}')"
   ]
  },
  {
   "cell_type": "code",
   "execution_count": 16,
   "metadata": {},
   "outputs": [
    {
     "name": "stdout",
     "output_type": "stream",
     "text": [
      "{'pca__n_components': 50, 'svm__C': 10, 'svm__kernel': 'linear'}\n",
      "0.9625\n"
     ]
    }
   ],
   "source": [
    "# Grid search for Hyperparameter tuning\n",
    "from sklearn import svm\n",
    "from sklearn.pipeline import Pipeline\n",
    "from sklearn.decomposition import PCA\n",
    "from sklearn.model_selection import GridSearchCV\n",
    "\n",
    "# Create a pipeline with PCA and SVM\n",
    "pipe = Pipeline(steps=[\n",
    "    ('pca', PCA()),\n",
    "    ('svm', svm.SVC())\n",
    "])\n",
    "\n",
    "# Define the parameter grid for GridSearch\n",
    "param_grid = {\n",
    "    'pca__n_components': [10, 20, 30, 50],  # Number of PCA components\n",
    "    'svm__C': [0.1, 1, 10],                 # Regularization parameter for SVM\n",
    "    'svm__kernel': ['linear', 'rbf']         # Kernel types\n",
    "}\n",
    "\n",
    "# Initialize GridSearchCV\n",
    "grid_search = GridSearchCV(pipe, param_grid, cv=5, scoring='accuracy')\n",
    "\n",
    "# Fit the model on training data\n",
    "grid_search.fit(X_train, y_train)\n",
    "print(grid_search.best_params_)\n",
    "print(grid_search.best_score_)"
   ]
  },
  {
   "cell_type": "code",
   "execution_count": 17,
   "metadata": {},
   "outputs": [
    {
     "name": "stdout",
     "output_type": "stream",
     "text": [
      "Train Accuracy: 100.0000%\n",
      "Test Accuracy: 99.3750%\n"
     ]
    }
   ],
   "source": [
    "# Evaluate model\n",
    "\n",
    "# Get the best model from GridSearch\n",
    "best_model = grid_search.best_estimator_\n",
    "\n",
    "# Predict on train data\n",
    "train_predictions = best_model.predict(X_train)\n",
    "# Predict on test data\n",
    "test_predictions = best_model.predict(X_test)\n",
    "\n",
    "# Evaluate accuracy\n",
    "train_accuracy = accuracy_score(y_train, train_predictions)\n",
    "print(f\"Train Accuracy: {train_accuracy * 100:.4f}%\")\n",
    "\n",
    "test_accuracy = accuracy_score(y_test, test_predictions)\n",
    "print(f\"Test Accuracy: {test_accuracy * 100:.4f}%\")"
   ]
  }
 ],
 "metadata": {
  "kernelspec": {
   "display_name": "base",
   "language": "python",
   "name": "python3"
  },
  "language_info": {
   "codemirror_mode": {
    "name": "ipython",
    "version": 3
   },
   "file_extension": ".py",
   "mimetype": "text/x-python",
   "name": "python",
   "nbconvert_exporter": "python",
   "pygments_lexer": "ipython3",
   "version": "3.12.4"
  }
 },
 "nbformat": 4,
 "nbformat_minor": 2
}
