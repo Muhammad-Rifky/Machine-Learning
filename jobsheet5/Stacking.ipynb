{
 "cells": [
  {
   "cell_type": "code",
   "execution_count": 14,
   "metadata": {},
   "outputs": [
    {
     "name": "stdout",
     "output_type": "stream",
     "text": [
      "Akurasi Random Forest: 0.921053\n",
      "Akurasi AdaBoost: 0.894737\n",
      "Akurasi Stacking Classifier: 0.973684\n",
      "Selisih antara Random Forest dan AdaBoost: 0.026316\n",
      "Selisih antara Random Forest dan Stacking: -0.052632\n",
      "Selisih antara AdaBoost dan Stacking: -0.078947\n"
     ]
    }
   ],
   "source": [
    "from sklearn.datasets import load_iris\n",
    "from sklearn.ensemble import RandomForestClassifier, StackingClassifier, AdaBoostClassifier\n",
    "from sklearn.linear_model import LogisticRegression\n",
    "from sklearn.model_selection import train_test_split\n",
    "from sklearn.neighbors import KNeighborsClassifier\n",
    "from sklearn.tree import DecisionTreeClassifier\n",
    "from sklearn.metrics import accuracy_score\n",
    "\n",
    "# Memuat data contoh (dataset Iris)\n",
    "data = load_iris()\n",
    "X, y = data.data, data.target\n",
    "\n",
    "# Membagi data menjadi set pelatihan dan pengujian\n",
    "X_train, X_test, y_train, y_test = train_test_split(X, y, stratify=y, random_state=42)\n",
    "\n",
    "# Klasifikasi Random Forest\n",
    "rf = RandomForestClassifier(n_estimators=50, random_state=42)\n",
    "rf.fit(X_train, y_train)\n",
    "rf_accuracy = rf.score(X_test, y_test)\n",
    "\n",
    "# Klasifikasi AdaBoost\n",
    "dt = DecisionTreeClassifier()\n",
    "ada_boost = AdaBoostClassifier(estimator=dt, n_estimators=50,algorithm=\"SAMME\" ,random_state=42)\n",
    "ada_boost.fit(X_train, y_train)\n",
    "ada_accuracy = ada_boost.score(X_test, y_test)\n",
    "\n",
    "# Klasifikasi Stacking\n",
    "layer_one_estimators = [\n",
    "    ('rf_1', RandomForestClassifier(n_estimators=10, random_state=42)),\n",
    "    ('knn_1', KNeighborsClassifier(n_neighbors=5))             \n",
    "]\n",
    "layer_two_estimators = [\n",
    "    ('dt_2', DecisionTreeClassifier()),\n",
    "    ('rf_2', RandomForestClassifier(n_estimators=50, random_state=42)),\n",
    "]\n",
    "layer_two = StackingClassifier(estimators=layer_two_estimators, final_estimator=LogisticRegression())\n",
    "\n",
    "stacking_clf = StackingClassifier(estimators=layer_one_estimators, final_estimator=layer_two)\n",
    "stacking_clf.fit(X_train, y_train)\n",
    "stacking_accuracy = stacking_clf.score(X_test, y_test)\n",
    "\n",
    "# Mencetak akurasi\n",
    "print(\"Akurasi Random Forest: {:.6f}\".format(rf_accuracy))\n",
    "print(\"Akurasi AdaBoost: {:.6f}\".format(ada_accuracy))\n",
    "print(\"Akurasi Stacking Classifier: {:.6f}\".format(stacking_accuracy))\n",
    "\n",
    "# Menghitung selisih akurasi\n",
    "print(\"Selisih antara Random Forest dan AdaBoost: {:.6f}\".format(rf_accuracy - ada_accuracy))\n",
    "print(\"Selisih antara Random Forest dan Stacking: {:.6f}\".format(rf_accuracy - stacking_accuracy))\n",
    "print(\"Selisih antara AdaBoost dan Stacking: {:.6f}\".format(ada_accuracy - stacking_accuracy))"
   ]
  }
 ],
 "metadata": {
  "kernelspec": {
   "display_name": "base",
   "language": "python",
   "name": "python3"
  },
  "language_info": {
   "codemirror_mode": {
    "name": "ipython",
    "version": 3
   },
   "file_extension": ".py",
   "mimetype": "text/x-python",
   "name": "python",
   "nbconvert_exporter": "python",
   "pygments_lexer": "ipython3",
   "version": "3.12.4"
  }
 },
 "nbformat": 4,
 "nbformat_minor": 2
}
